{
  "cells": [
    {
      "cell_type": "markdown",
      "metadata": {
        "id": "view-in-github",
        "colab_type": "text"
      },
      "source": [
        "<a href=\"https://colab.research.google.com/github/mgnarag/binarization-lowres/blob/main/Masking.ipynb\" target=\"_parent\"><img src=\"https://colab.research.google.com/assets/colab-badge.svg\" alt=\"Open In Colab\"/></a>"
      ]
    },
    {
      "cell_type": "code",
      "execution_count": 1,
      "metadata": {
        "colab": {
          "base_uri": "https://localhost:8080/"
        },
        "id": "u4a6w1GsajIN",
        "outputId": "d947d175-4284-4471-eae0-83863b96ee8b"
      },
      "outputs": [
        {
          "output_type": "stream",
          "name": "stdout",
          "text": [
            "Mounted at /content/drive\n"
          ]
        }
      ],
      "source": [
        "from google.colab import drive\n",
        "drive.mount(\"/content/drive\")"
      ]
    },
    {
      "cell_type": "code",
      "execution_count": null,
      "metadata": {
        "id": "WKh0dJSzaj_X"
      },
      "outputs": [],
      "source": [
        "!ls drive/My\\ Drive\n",
        "file_path = \"/content/drive/My Drive/Architectural_designs/From Arki/\""
      ]
    },
    {
      "cell_type": "code",
      "execution_count": 3,
      "metadata": {
        "id": "7KGh6L6qVZ8b"
      },
      "outputs": [],
      "source": [
        "import matplotlib.pyplot as plt\n",
        "import numpy as np\n",
        "import pandas as pd\n",
        "import tensorflow as tf\n",
        "\n",
        "\n",
        "from PIL import Image, ImageOps\n",
        "Image.MAX_IMAGE_PIXELS = None\n",
        "import os\n",
        "import numpy as np\n",
        "import matplotlib.pyplot as plt\n",
        "import numpy as np\n",
        "import tensorflow as tf\n",
        "import pandas as pd\n",
        "\n",
        "from tensorflow import keras\n",
        "\n",
        "import time\n",
        "import os\n",
        "import cv2"
      ]
    },
    {
      "cell_type": "code",
      "execution_count": 4,
      "metadata": {
        "id": "4TkaTAC3zgr7"
      },
      "outputs": [],
      "source": [
        "def crop(im):\n",
        "    width, height = im.size\n",
        "    data = []\n",
        "    for j in range(0,int(height/n_size)):\n",
        "        for i in range(0,int(width/n_size)):\n",
        "            im1 = im.crop((0 + (n_size*i), 0 + (n_size*j), n_size + (n_size*i), n_size + (n_size*j)))\n",
        "            im1 = np.array(im1)\n",
        "            im1 = im1.astype(np.float32)\n",
        "            im1 = im1/255\n",
        "            data.append(im1)\n",
        "    return data\n"
      ]
    },
    {
      "cell_type": "markdown",
      "metadata": {
        "id": "sdJThYVg8IpL"
      },
      "source": []
    },
    {
      "cell_type": "code",
      "source": [
        "gt = Image.open(file_path+ '4 Testing/ground_truth_100dpi.png').convert('L')\n",
        "img_gt = cv2.imread(file_path+ '4 Testing/ground_truth_100dpi.png')\n",
        "gt = np.asarray(gt) > 128\n",
        "gt = ~gt\n",
        "\n",
        "filename = \"nbs_100dpi.png\"\n",
        "directory = file_path + '4 Testing/' + filename\n",
        "#directory = 'test_output_v'+str(model)+'.png'\n",
        "image = Image.open(directory)\n",
        "rgb = image.convert(\"RGB\")\n",
        "r, g, b = rgb.split()\n",
        "w_dirty, h_dirty = r.size\n",
        "dirty = [r,g,b]\n",
        "\n",
        "\n",
        "METRIC = []\n",
        "channel = ['red','green', 'blue']\n",
        "for model in range(1,2):\n",
        "  for color in range(0,3):\n",
        "      print('Model = ', model, '', str(channel[color]))\n",
        "      from tensorflow import keras\n",
        "      autoencoder = keras.models.load_model(file_path + '1 Models/100 DPI/autoencoder_'+str(model)+ '_'+str(channel[color]))\n",
        "      if model == 1:\n",
        "          n_size = 32\n",
        "      if model == 2:\n",
        "          n_size = 32\n",
        "      if model == 3:\n",
        "          n_size = 64\n",
        "      if model == 4:\n",
        "          n_size = 64\n",
        "      if model == 5:\n",
        "          n_size = 128\n",
        "      if model == 6:\n",
        "          n_size = 128\n",
        "\n",
        "      xx = int(w_dirty/n_size)\n",
        "      final=[]\n",
        "\n",
        "      for portion in range(0,xx):\n",
        "          test = dirty[color]\n",
        "          im1 = test.crop((n_size*portion, 0, (n_size*portion) + n_size, h_dirty))\n",
        "          w1, h1 = im1.size\n",
        "          w = int(w1/n_size)\n",
        "          h = int(h1/n_size)\n",
        "\n",
        "          neverbeforeseen = np.array(crop(im1))\n",
        "          encoded_imgs = autoencoder.encoder(neverbeforeseen).numpy()\n",
        "          decoded_imgs = autoencoder.decoder(encoded_imgs).numpy()\n",
        "\n",
        "          col = np.vstack((decoded_imgs[0],decoded_imgs[1]))\n",
        "          for i in range(2,h):\n",
        "              col = np.vstack((col,decoded_imgs[i]))\n",
        "\n",
        "          #y = np.where(col > 0.5,1,0) #round the values\n",
        "          y = col\n",
        "          y = (y * 255).astype('uint8')\n",
        "          if portion == 0:\n",
        "              final = y\n",
        "          if portion > 0:\n",
        "              final = np.hstack((final,y))\n",
        "\n",
        "      final = np.squeeze(final)\n",
        "      reconstructed = Image.fromarray(final)\n",
        "      reconstructed.save(file_path + \"5 Tested/output v\" + str(model) + '_'+str(channel[color]) + '.png')\n",
        "\n",
        "      output = Image.open(file_path + \"5 Tested/output v\" + str(model)  + '_'+str(channel[color]) +  '.png').convert('L')  # convert to grayscale\n",
        "\n",
        "  #COMBINING RGB ------------------------------------------------\n",
        "  print('Model = ', model, '', str('RGB'))\n",
        "  mask_red = 1-np.asarray(Image.open(file_path + \"5 Tested/output v\" + str(model)  + '_'+str(channel[0]) +  '.png').convert('L'))/255\n",
        "  mask_green = 1-np.asarray(Image.open(file_path + \"5 Tested/output v\" + str(model)  + '_'+str(channel[1]) +  '.png').convert('L'))/255\n",
        "  mask_blue = 1-np.asarray(Image.open(file_path + \"5 Tested/output v\" + str(model)  + '_'+str(channel[2]) +  '.png').convert('L'))/255\n",
        "  out_red = mask_red*r\n",
        "  out_green = mask_green*g\n",
        "  out_blue = mask_blue*b\n",
        "\n",
        "\n",
        "  reconstructed = Image.fromarray(output_rgb)\n",
        "  reconstructed.save(file_path + \"5 Tested/output v\" + str(model) + '_RGB.png')\n",
        "\n",
        "  output = Image.open(file_path + \"5 Tested/output v\" + str(model)  + '_RGB.png').convert('L')  # convert to grayscale\n",
        "\n"
      ],
      "metadata": {
        "colab": {
          "base_uri": "https://localhost:8080/",
          "height": 330
        },
        "id": "lVaBudLqydfr",
        "outputId": "300040da-6d46-47e3-a6a4-cad42681be3f"
      },
      "execution_count": 11,
      "outputs": [
        {
          "output_type": "stream",
          "name": "stdout",
          "text": [
            "Model =  1  red\n",
            "Model =  1  green\n",
            "Model =  1  blue\n",
            "Model =  1  RGB\n"
          ]
        },
        {
          "output_type": "error",
          "ename": "NameError",
          "evalue": "ignored",
          "traceback": [
            "\u001b[0;31m---------------------------------------------------------------------------\u001b[0m",
            "\u001b[0;31mNameError\u001b[0m                                 Traceback (most recent call last)",
            "\u001b[0;32m<ipython-input-11-9fcfacf0fd21>\u001b[0m in \u001b[0;36m<cell line: 18>\u001b[0;34m()\u001b[0m\n\u001b[1;32m     74\u001b[0m \u001b[0;34m\u001b[0m\u001b[0m\n\u001b[1;32m     75\u001b[0m \u001b[0;34m\u001b[0m\u001b[0m\n\u001b[0;32m---> 76\u001b[0;31m   \u001b[0mreconstructed\u001b[0m \u001b[0;34m=\u001b[0m \u001b[0mImage\u001b[0m\u001b[0;34m.\u001b[0m\u001b[0mfromarray\u001b[0m\u001b[0;34m(\u001b[0m\u001b[0;34m~\u001b[0m\u001b[0moutput_rgb\u001b[0m\u001b[0;34m)\u001b[0m\u001b[0;34m\u001b[0m\u001b[0;34m\u001b[0m\u001b[0m\n\u001b[0m\u001b[1;32m     77\u001b[0m   \u001b[0mreconstructed\u001b[0m\u001b[0;34m.\u001b[0m\u001b[0msave\u001b[0m\u001b[0;34m(\u001b[0m\u001b[0mfile_path\u001b[0m \u001b[0;34m+\u001b[0m \u001b[0;34m\"5 Tested/output v\"\u001b[0m \u001b[0;34m+\u001b[0m \u001b[0mstr\u001b[0m\u001b[0;34m(\u001b[0m\u001b[0mmodel\u001b[0m\u001b[0;34m)\u001b[0m \u001b[0;34m+\u001b[0m \u001b[0;34m'_RGB.png'\u001b[0m\u001b[0;34m)\u001b[0m\u001b[0;34m\u001b[0m\u001b[0;34m\u001b[0m\u001b[0m\n\u001b[1;32m     78\u001b[0m \u001b[0;34m\u001b[0m\u001b[0m\n",
            "\u001b[0;31mNameError\u001b[0m: name 'output_rgb' is not defined"
          ]
        }
      ]
    },
    {
      "cell_type": "code",
      "source": [
        "mask_red = 1-np.asarray(Image.open(file_path + \"5 Tested/output v\" + str(model)  + '_'+str(channel[0]) +  '.png').convert('L'))/255\n",
        "out_red = mask_red*r\n",
        "print(mask_red)\n",
        "plt.imshow(out_red)"
      ],
      "metadata": {
        "id": "wuH9OLFOvYIA",
        "outputId": "15128794-602f-4ec8-da23-fb1d2c7f2f4f",
        "colab": {
          "base_uri": "https://localhost:8080/",
          "height": 583
        }
      },
      "execution_count": 22,
      "outputs": [
        {
          "output_type": "stream",
          "name": "stdout",
          "text": [
            "[[0.         0.         0.         ... 0.00392157 0.00392157 0.00392157]\n",
            " [0.         0.         0.         ... 0.00392157 0.         0.        ]\n",
            " [0.         0.         0.         ... 0.         0.         0.        ]\n",
            " ...\n",
            " [0.         0.         0.         ... 0.         0.         0.        ]\n",
            " [0.         0.         0.         ... 0.         0.         0.        ]\n",
            " [0.00392157 0.00392157 0.00392157 ... 0.         0.         0.        ]]\n"
          ]
        },
        {
          "output_type": "execute_result",
          "data": {
            "text/plain": [
              "<matplotlib.image.AxesImage at 0x7c98e970a800>"
            ]
          },
          "metadata": {},
          "execution_count": 22
        },
        {
          "output_type": "display_data",
          "data": {
            "text/plain": [
              "<Figure size 640x480 with 1 Axes>"
            ],
            "image/png": "[encoded data removed]"
          },
          "metadata": {}
        }
      ]
    },
    {
      "cell_type": "code",
      "source": [
        "print(out_red)"
      ],
      "metadata": {
        "id": "v4biH4nJw2Zt",
        "outputId": "baae26a7-5576-427c-dc7a-2584814dc3ad",
        "colab": {
          "base_uri": "https://localhost:8080/"
        }
      },
      "execution_count": 23,
      "outputs": [
        {
          "output_type": "stream",
          "name": "stdout",
          "text": [
            "[[0.         0.         0.         ... 0.68235294 0.68235294 0.68235294]\n",
            " [0.         0.         0.         ... 0.6745098  0.         0.        ]\n",
            " [0.         0.         0.         ... 0.         0.         0.        ]\n",
            " ...\n",
            " [0.         0.         0.         ... 0.         0.         0.        ]\n",
            " [0.         0.         0.         ... 0.         0.         0.        ]\n",
            " [0.85490196 0.85882353 0.85882353 ... 0.         0.         0.        ]]\n"
          ]
        }
      ]
    },
    {
      "cell_type": "code",
      "source": [
        "TP = output & gt\n",
        "TP = Image.fromarray(~TP)\n",
        "plt.imshow(TP,cmap = 'gray')\n",
        "TP.save(file_path + \"5 Tested/TP.png\")\n",
        "\n",
        "FP = output & ~gt\n",
        "FP = Image.fromarray(~FP)\n",
        "plt.imshow(FP,cmap = 'gray')\n",
        "FP.save(file_path + \"5 Tested/FP.png\")\n",
        "\n",
        "FN = ~output & gt\n",
        "FN = Image.fromarray(~FN)\n",
        "plt.imshow(FN,cmap = 'gray')\n",
        "FN.save(file_path + \"5 Tested/FN.png\")"
      ],
      "metadata": {
        "id": "-6lDL9udzK00"
      },
      "execution_count": null,
      "outputs": []
    }
  ],
  "metadata": {
    "accelerator": "GPU",
    "colab": {
      "provenance": [],
      "include_colab_link": true
    },
    "kernelspec": {
      "display_name": "Python 3",
      "name": "python3"
    },
    "language_info": {
      "name": "python"
    }
  },
  "nbformat": 4,
  "nbformat_minor": 0
}