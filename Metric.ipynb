{
  "cells": [
    {
      "cell_type": "markdown",
      "metadata": {
        "id": "view-in-github",
        "colab_type": "text"
      },
      "source": [
        "<a href=\"https://colab.research.google.com/github/mgnarag/binarization-lowres/blob/main/Metric.ipynb\" target=\"_parent\"><img src=\"https://colab.research.google.com/assets/colab-badge.svg\" alt=\"Open In Colab\"/></a>"
      ]
    },
    {
      "cell_type": "code",
      "execution_count": 1,
      "metadata": {
        "colab": {
          "base_uri": "https://localhost:8080/"
        },
        "id": "u4a6w1GsajIN",
        "outputId": "00bc8aad-2559-4ab4-e1d5-8ccfb1a6c086"
      },
      "outputs": [
        {
          "output_type": "stream",
          "name": "stdout",
          "text": [
            "Mounted at /content/drive\n"
          ]
        }
      ],
      "source": [
        "from google.colab import drive\n",
        "drive.mount(\"/content/drive\")"
      ]
    },
    {
      "cell_type": "code",
      "execution_count": null,
      "metadata": {
        "id": "WKh0dJSzaj_X"
      },
      "outputs": [],
      "source": [
        "!ls drive/My\\ Drive\n",
        "file_path = \"/content/drive/My Drive/Architectural_designs/From Arki/\""
      ]
    },
    {
      "cell_type": "code",
      "execution_count": 3,
      "metadata": {
        "id": "7KGh6L6qVZ8b"
      },
      "outputs": [],
      "source": [
        "import matplotlib.pyplot as plt\n",
        "import numpy as np\n",
        "import pandas as pd\n",
        "import tensorflow as tf\n",
        "\n",
        "\n",
        "from PIL import Image, ImageOps\n",
        "Image.MAX_IMAGE_PIXELS = None\n",
        "import os\n",
        "import numpy as np\n",
        "import matplotlib.pyplot as plt\n",
        "import numpy as np\n",
        "import tensorflow as tf\n",
        "import pandas as pd\n",
        "\n",
        "from tensorflow import keras\n",
        "\n",
        "import time\n",
        "import os\n",
        "import cv2"
      ]
    },
    {
      "cell_type": "code",
      "execution_count": 4,
      "metadata": {
        "id": "4TkaTAC3zgr7"
      },
      "outputs": [],
      "source": [
        "def crop(im):\n",
        "    width, height = im.size\n",
        "    data = []\n",
        "    for j in range(0,int(height/n_size)):\n",
        "        for i in range(0,int(width/n_size)):\n",
        "            im1 = im.crop((0 + (n_size*i), 0 + (n_size*j), n_size + (n_size*i), n_size + (n_size*j)))\n",
        "            im1 = np.array(im1)\n",
        "            im1 = im1.astype(np.float32)\n",
        "            im1 = im1/255\n",
        "            data.append(im1)\n",
        "    return data\n",
        "\n"
      ]
    },
    {
      "cell_type": "markdown",
      "metadata": {
        "id": "sdJThYVg8IpL"
      },
      "source": []
    },
    {
      "cell_type": "code",
      "source": [
        "gt = Image.open(file_path+ '4 Testing/ground_truth_100dpi.png').convert('L')\n",
        "img_gt = cv2.imread(file_path+ '4 Testing/ground_truth_100dpi.png')\n",
        "gt = np.asarray(gt) > 128\n",
        "gt = ~gt\n",
        "\n",
        "filename = \"nbs_100dpi.png\"\n",
        "directory = file_path + '4 Testing/' + filename\n",
        "#directory = 'test_output_v'+str(model)+'.png'\n",
        "dirty = ImageOps.grayscale(Image.open(directory))\n",
        "dirty = np.array(dirty)\n",
        "dirty = Image.fromarray(dirty.astype('uint8'))\n",
        "\n",
        "w_dirty, h_dirty = dirty.size\n",
        "\n",
        "\n",
        "METRIC = []\n",
        "\n",
        "for model in range(1,7):\n",
        "    print('Model = ', model)\n",
        "    from tensorflow import keras\n",
        "    autoencoder = keras.models.load_model(file_path + '1 Models/autoencoder_'+str(model))\n",
        "    if model == 1:\n",
        "        n_size = 32\n",
        "    if model == 2:\n",
        "        n_size = 32\n",
        "    if model == 3:\n",
        "        n_size = 64\n",
        "    if model == 4:\n",
        "        n_size = 64\n",
        "    if model == 5:\n",
        "        n_size = 128\n",
        "    if model == 6:\n",
        "        n_size = 128\n",
        "    if model == 7:\n",
        "        n_size = 256\n",
        "    if model == 8:\n",
        "        n_size = 256\n",
        "\n",
        "    xx = int(w_dirty/n_size)\n",
        "    final=[]\n",
        "\n",
        "    for portion in range(0,xx):\n",
        "        #print(\"current portion to clean:\", str(portion))\n",
        "\n",
        "        im1 = dirty.crop((n_size*portion, 0, (n_size*portion) + n_size, h_dirty))\n",
        "        w1, h1 = im1.size\n",
        "        w = int(w1/n_size)\n",
        "        h = int(h1/n_size)\n",
        "\n",
        "        neverbeforeseen = np.array(crop(im1))\n",
        "        encoded_imgs = autoencoder.encoder(neverbeforeseen).numpy()\n",
        "        decoded_imgs = autoencoder.decoder(encoded_imgs).numpy()\n",
        "\n",
        "        col = np.vstack((decoded_imgs[0],decoded_imgs[1]))\n",
        "        for i in range(2,h):\n",
        "            col = np.vstack((col,decoded_imgs[i]))\n",
        "\n",
        "        y = np.where(col > 0.5,1,0) #round the values\n",
        "        y = (y * 255).astype('uint8')\n",
        "        if portion == 0:\n",
        "            final = y\n",
        "        if portion > 0:\n",
        "            final = np.hstack((final,y))\n",
        "\n",
        "    final = np.squeeze(final)\n",
        "    reconstructed = Image.fromarray(final)\n",
        "    reconstructed.save(file_path + \"5 Tested/output v\" + str(model) + '.png')\n",
        "\n",
        "    output = Image.open(file_path + \"5 Tested/output v\" + str(model) + '.png').convert('L')  # convert to grayscale\n",
        "    img_out = cv2.imread(file_path + \"5 Tested/output v\" + str(model) + '.png')\n",
        "\n",
        "    #output = output.crop((0, 0, 3200, 5632))\n",
        "    #img_out = img_out[0:5632 , 0:3200]\n",
        "\n",
        "    #psnr = cv2.PSNR(img_out/255, img_gt/255)\n",
        "    # Convert to binary images\n",
        "    output = np.asarray(output) > 128\n",
        "    output = ~output\n",
        "\n",
        "    tp = np.sum(output & gt)\n",
        "    fp = np.sum(output & ~gt)\n",
        "    fn = np.sum(~output & gt)\n",
        "    precision = tp / (tp + fp)\n",
        "    recall = tp / (tp + fn)\n",
        "    f1score = (2*precision*recall)/(precision + recall)\n",
        "\n",
        "    I_1 = output & gt\n",
        "    O_1 = output | gt\n",
        "    I = np.sum(output & gt)\n",
        "    O = np.sum(output | gt)\n",
        "    i_o_u = I/O\n",
        "\n",
        "    psnr = cv2.PSNR(img_out, img_gt)\n",
        "\n",
        "    METRIC.append([model, precision,recall,f1score,i_o_u,psnr])\n",
        "\n",
        "METRIC = pd.DataFrame(METRIC)\n",
        "\n",
        "headers = ['Model','Precision', 'Recall', 'F1 Score', 'IOU','PSNR' ]\n",
        "METRIC.columns = headers\n",
        "\n",
        "METRIC.to_csv(file_path + 'Metric_100DPI_white balanced and bw output.csv')"
      ],
      "metadata": {
        "colab": {
          "base_uri": "https://localhost:8080/"
        },
        "id": "lVaBudLqydfr",
        "outputId": "6945b5ef-01c1-40b3-91dd-15756fb488fb"
      },
      "execution_count": 6,
      "outputs": [
        {
          "output_type": "stream",
          "name": "stdout",
          "text": [
            "Model =  1\n",
            "Model =  2\n",
            "Model =  3\n",
            "Model =  4\n",
            "Model =  5\n",
            "Model =  6\n"
          ]
        }
      ]
    },
    {
      "cell_type": "code",
      "source": [
        "TP = output & gt\n",
        "TP = Image.fromarray(~TP)\n",
        "plt.imshow(TP,cmap = 'gray')\n",
        "TP.save(file_path + \"5 Tested/TP.png\")\n",
        "\n",
        "FP = output & ~gt\n",
        "FP = Image.fromarray(~FP)\n",
        "plt.imshow(FP,cmap = 'gray')\n",
        "FP.save(file_path + \"5 Tested/FP.png\")\n",
        "\n",
        "FN = ~output & gt\n",
        "FN = Image.fromarray(~FN)\n",
        "plt.imshow(FN,cmap = 'gray')\n",
        "FN.save(file_path + \"5 Tested/FN.png\")"
      ],
      "metadata": {
        "id": "-6lDL9udzK00"
      },
      "execution_count": null,
      "outputs": []
    }
  ],
  "metadata": {
    "accelerator": "GPU",
    "colab": {
      "provenance": [],
      "include_colab_link": true
    },
    "kernelspec": {
      "display_name": "Python 3",
      "name": "python3"
    },
    "language_info": {
      "name": "python"
    }
  },
  "nbformat": 4,
  "nbformat_minor": 0
}