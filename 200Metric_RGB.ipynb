{
  "cells": [
    {
      "cell_type": "markdown",
      "metadata": {
        "id": "view-in-github",
        "colab_type": "text"
      },
      "source": [
        "<a href=\"https://colab.research.google.com/github/mgnarag/binarization-lowres/blob/main/200Metric_RGB.ipynb\" target=\"_parent\"><img src=\"https://colab.research.google.com/assets/colab-badge.svg\" alt=\"Open In Colab\"/></a>"
      ]
    },
    {
      "cell_type": "code",
      "execution_count": 1,
      "metadata": {
        "colab": {
          "base_uri": "https://localhost:8080/"
        },
        "id": "u4a6w1GsajIN",
        "outputId": "027c0c13-77f1-4c78-bf5a-bf1ea26f0a8d"
      },
      "outputs": [
        {
          "output_type": "stream",
          "name": "stdout",
          "text": [
            "Mounted at /content/drive\n"
          ]
        }
      ],
      "source": [
        "from google.colab import drive\n",
        "drive.mount(\"/content/drive\")"
      ]
    },
    {
      "cell_type": "code",
      "execution_count": null,
      "metadata": {
        "id": "WKh0dJSzaj_X"
      },
      "outputs": [],
      "source": [
        "!ls drive/My\\ Drive\n",
        "file_path = \"/content/drive/My Drive/Architectural_designs/From Arki/\""
      ]
    },
    {
      "cell_type": "code",
      "execution_count": 3,
      "metadata": {
        "id": "7KGh6L6qVZ8b"
      },
      "outputs": [],
      "source": [
        "import matplotlib.pyplot as plt\n",
        "import numpy as np\n",
        "import pandas as pd\n",
        "import tensorflow as tf\n",
        "\n",
        "\n",
        "from PIL import Image, ImageOps\n",
        "Image.MAX_IMAGE_PIXELS = None\n",
        "import os\n",
        "import numpy as np\n",
        "import matplotlib.pyplot as plt\n",
        "import numpy as np\n",
        "import tensorflow as tf\n",
        "import pandas as pd\n",
        "\n",
        "from tensorflow import keras\n",
        "\n",
        "import time\n",
        "import os\n",
        "import cv2"
      ]
    },
    {
      "cell_type": "code",
      "execution_count": 8,
      "metadata": {
        "id": "4TkaTAC3zgr7"
      },
      "outputs": [],
      "source": [
        "def crop(im):\n",
        "    width, height = im.size\n",
        "    data = []\n",
        "    for j in range(0,int(height/n_size)):\n",
        "        for i in range(0,int(width/n_size)):\n",
        "            im1 = im.crop((0 + (n_size*i), 0 + (n_size*j), n_size + (n_size*i), n_size + (n_size*j)))\n",
        "            im1 = np.array(im1)\n",
        "            im1 = im1.astype(np.float32)\n",
        "            im1 = im1/255\n",
        "            #im1 = im1/4\n",
        "            data.append(im1)\n",
        "    return data\n",
        "\n",
        "def normalize(arr):\n",
        "    \"\"\"\n",
        "    Linear normalization\n",
        "    http://en.wikipedia.org/wiki/Normalization_%28image_processing%29\n",
        "    \"\"\"\n",
        "    arr = arr.astype('float')\n",
        "    # Do not touch the alpha channel\n",
        "    for i in range(3):\n",
        "        minval = arr[...,i].min()\n",
        "        maxval = arr[...,i].max()\n",
        "        if minval != maxval:\n",
        "            arr[...,i] -= minval\n",
        "            arr[...,i] *= (255.0/(maxval-minval))\n",
        "    return arr\n"
      ]
    },
    {
      "cell_type": "markdown",
      "metadata": {
        "id": "sdJThYVg8IpL"
      },
      "source": []
    },
    {
      "cell_type": "code",
      "source": [
        "gt = Image.open(file_path+ '4 Testing/ground_truth_200dpi.png').convert('L')\n",
        "img_gt = cv2.imread(file_path+ '4 Testing/ground_truth_200dpi.png')\n",
        "gt = np.asarray(gt) > 128\n",
        "gt = ~gt\n",
        "\n",
        "filename = \"nbs_200dpi.png\"\n",
        "directory = file_path + '4 Testing/' + filename\n",
        "#directory = 'test_output_v'+str(model)+'.png'\n",
        "dirty = ImageOps.grayscale(Image.open(directory))\n",
        "dirty = np.array(dirty)\n",
        "dirty = Image.fromarray(normalize(dirty).astype('uint8'))\n",
        "\n",
        "w_dirty, h_dirty = dirty.size\n",
        "\n",
        "\n",
        "METRIC = []\n",
        "channel = ['gray','red','green', 'blue']\n",
        "for model in range(5,7):\n",
        "  for color in range(0,4):\n",
        "      print('Model = ', model, '', str(channel[color]))\n",
        "      from tensorflow import keras\n",
        "      autoencoder = keras.models.load_model(file_path + '1 Models/200 DPI/autoencoder_'+str(model)+ '_'+str(channel[color]))\n",
        "      if model == 1:\n",
        "          n_size = 32\n",
        "      if model == 2:\n",
        "          n_size = 32\n",
        "      if model == 3:\n",
        "          n_size = 64\n",
        "      if model == 4:\n",
        "          n_size = 64\n",
        "      if model == 5:\n",
        "          n_size = 128\n",
        "      if model == 6:\n",
        "          n_size = 128\n",
        "      if model == 7:\n",
        "          n_size = 256\n",
        "      if model == 8:\n",
        "          n_size = 256\n",
        "\n",
        "      xx = int(w_dirty/n_size)\n",
        "      final=[]\n",
        "\n",
        "      for portion in range(0,xx):\n",
        "          im1 = dirty.crop((n_size*portion, 0, (n_size*portion) + n_size, h_dirty))\n",
        "          w1, h1 = im1.size\n",
        "          w = int(w1/n_size)\n",
        "          h = int(h1/n_size)\n",
        "\n",
        "          neverbeforeseen = np.array(crop(im1))\n",
        "          encoded_imgs = autoencoder.encoder(neverbeforeseen).numpy()\n",
        "          decoded_imgs = autoencoder.decoder(encoded_imgs).numpy()\n",
        "\n",
        "          col = np.vstack((decoded_imgs[0],decoded_imgs[1]))\n",
        "          for i in range(2,h):\n",
        "              col = np.vstack((col,decoded_imgs[i]))\n",
        "\n",
        "          y = np.where(col > 0.5,1,0) #round the values\n",
        "          y = (y * 255).astype('uint8')\n",
        "          if portion == 0:\n",
        "              final = y\n",
        "          if portion > 0:\n",
        "              final = np.hstack((final,y))\n",
        "\n",
        "      final = np.squeeze(final)\n",
        "      reconstructed = Image.fromarray(final)\n",
        "      reconstructed.save(file_path + \"5 Tested/output v\" + str(model) + '_'+str(channel[color]) + '.png')\n",
        "\n",
        "      output = Image.open(file_path + \"5 Tested/output v\" + str(model)  + '_'+str(channel[color]) +  '.png').convert('L')  # convert to grayscale\n",
        "      img_out = cv2.imread(file_path + \"5 Tested/output v\" + str(model)  + '_'+str(channel[color]) +  '.png')\n",
        "\n",
        "      output = np.asarray(output) > 128 # Convert to binary images\n",
        "      output = ~output\n",
        "\n",
        "      tp = np.sum(output & gt)\n",
        "      fp = np.sum(output & ~gt)\n",
        "      fn = np.sum(~output & gt)\n",
        "      precision = tp / (tp + fp)\n",
        "      recall = tp / (tp + fn)\n",
        "      f1score = (2*precision*recall)/(precision + recall)\n",
        "\n",
        "      I_1 = output & gt\n",
        "      U_1 = output | gt\n",
        "      I = np.sum(output & gt)\n",
        "      U = np.sum(output | gt)\n",
        "      i_o_u = I/U\n",
        "\n",
        "      psnr = cv2.PSNR(img_out, img_gt)\n",
        "\n",
        "      METRIC.append([model, str(channel[color]), precision,recall,f1score,i_o_u,psnr])\n",
        "  #COMBINING RGB ------------------------------------------------\n",
        "  print('Model = ', model, '', str('RGB'))\n",
        "  output_red = (np.asarray(Image.open(file_path + \"5 Tested/output v\" + str(model)  + '_'+str(channel[0]) +  '.png').convert('L'))>128)\n",
        "  output_green = (np.asarray(Image.open(file_path + \"5 Tested/output v\" + str(model)  + '_'+str(channel[1]) +  '.png').convert('L'))>128)\n",
        "  output_blue = (np.asarray(Image.open(file_path + \"5 Tested/output v\" + str(model)  + '_'+str(channel[2]) +  '.png').convert('L'))>128)\n",
        "  output_rgb = ~output_red | ~output_green | ~output_blue\n",
        "\n",
        "  reconstructed = Image.fromarray(~output_rgb)\n",
        "  reconstructed.save(file_path + \"5 Tested/output v\" + str(model) + '_RGB.png')\n",
        "\n",
        "  output = Image.open(file_path + \"5 Tested/output v\" + str(model)  + '_RGB.png').convert('L')  # convert to grayscale\n",
        "  img_out = cv2.imread(file_path + \"5 Tested/output v\" + str(model) + '_RGB.png')\n",
        "\n",
        "  output = np.asarray(output) > 128\n",
        "  output = ~output\n",
        "\n",
        "  tp = np.sum(output & gt)\n",
        "  fp = np.sum(output & ~gt)\n",
        "  fn = np.sum(~output & gt)\n",
        "  precision = tp / (tp + fp)\n",
        "  recall = tp / (tp + fn)\n",
        "  f1score = (2*precision*recall)/(precision + recall)\n",
        "\n",
        "  I_1 = output & gt\n",
        "  O_1 = output | gt\n",
        "  I = np.sum(output & gt)\n",
        "  O = np.sum(output | gt)\n",
        "  i_o_u = I/O\n",
        "\n",
        "  psnr = cv2.PSNR(img_out, img_gt)\n",
        "\n",
        "  METRIC.append([model, str('RGB'), precision,recall,f1score,i_o_u,psnr])\n",
        "  #COMBINING RGB plus grayscale------------------------------------------------\n",
        "  print('Model = ', model, '', str('RGB+gray'))\n",
        "  output_gray = (np.asarray(Image.open(file_path + \"5 Tested/output v\" + str(model) +  '_gray.png').convert('L'))>128)\n",
        "  output = output_rgb | ~output_gray\n",
        "\n",
        "  reconstructed = Image.fromarray(~output)\n",
        "  reconstructed.save(file_path + \"5 Tested/output v\" + str(model) + '_RGB_GRAY.png')\n",
        "\n",
        "  output = Image.open(file_path + \"5 Tested/output v\" + str(model)  + '_RGB_GRAY.png').convert('L')  # convert to grayscale\n",
        "  img_out = cv2.imread(file_path + \"5 Tested/output v\" + str(model) + '_RGB_GRAY.png')\n",
        "\n",
        "  output = np.asarray(output) > 128\n",
        "  output = ~output\n",
        "\n",
        "  tp = np.sum(output & gt)\n",
        "  fp = np.sum(output & ~gt)\n",
        "  fn = np.sum(~output & gt)\n",
        "  precision = tp / (tp + fp)\n",
        "  recall = tp / (tp + fn)\n",
        "  f1score = (2*precision*recall)/(precision + recall)\n",
        "\n",
        "  I_1 = output & gt\n",
        "  O_1 = output | gt\n",
        "  I = np.sum(output & gt)\n",
        "  O = np.sum(output | gt)\n",
        "  i_o_u = I/O\n",
        "\n",
        "  psnr = cv2.PSNR(img_out, img_gt)\n",
        "\n",
        "  METRIC.append([model, str('RGB+gray'),precision,recall,f1score,i_o_u,psnr])\n",
        "\n",
        "\n",
        "METRIC = pd.DataFrame(METRIC)\n",
        "\n",
        "headers = ['Model','Channel','Precision', 'Recall', 'F1 Score', 'IOU','PSNR' ]\n",
        "METRIC.columns = headers\n",
        "\n",
        "METRIC.to_csv(file_path + 'Metric_RGB_.csv')\n",
        "print(METRIC)"
      ],
      "metadata": {
        "colab": {
          "base_uri": "https://localhost:8080/"
        },
        "id": "lVaBudLqydfr",
        "outputId": "8544288c-d830-4c4e-b1fb-a3e1c627ea5e"
      },
      "execution_count": 9,
      "outputs": [
        {
          "output_type": "stream",
          "name": "stdout",
          "text": [
            "Model =  5  gray\n",
            "Model =  5  red\n",
            "Model =  5  green\n",
            "Model =  5  blue\n",
            "Model =  5  RGB\n",
            "Model =  5  RGB+gray\n",
            "Model =  6  gray\n",
            "Model =  6  red\n",
            "Model =  6  green\n",
            "Model =  6  blue\n",
            "Model =  6  RGB\n",
            "Model =  6  RGB+gray\n",
            "    Model   Channel  Precision    Recall  F1 Score       IOU       PSNR\n",
            "0       5      gray   0.808590  0.651464  0.721572  0.564422  15.324708\n",
            "1       5       red   0.798135  0.741815  0.768946  0.624624  15.846793\n",
            "2       5     green   0.827548  0.620642  0.709315  0.549565  15.273685\n",
            "3       5      blue   0.860802  0.359103  0.506788  0.339395  13.893677\n",
            "4       5       RGB   0.741663  0.795499  0.767638  0.622900  15.511463\n",
            "5       5  RGB+gray   0.741663  0.795499  0.767638  0.622900  15.511463\n",
            "6       6      gray   0.858807  0.598445  0.705367  0.544839  15.349034\n",
            "7       6       red   0.778587  0.696948  0.735509  0.581664  15.337708\n",
            "8       6     green   0.875652  0.590120  0.705075  0.544491  15.403776\n",
            "9       6      blue   0.972279  0.271071  0.423946  0.268992  13.665580\n",
            "10      6       RGB   0.776597  0.699832  0.736219  0.582552  15.335633\n",
            "11      6  RGB+gray   0.776597  0.699832  0.736219  0.582552  15.335633\n"
          ]
        }
      ]
    },
    {
      "cell_type": "code",
      "source": [
        "TP = output & gt\n",
        "TP = Image.fromarray(~TP)\n",
        "plt.imshow(TP,cmap = 'gray')\n",
        "TP.save(file_path + \"5 Tested/TP.png\")\n",
        "\n",
        "FP = output & ~gt\n",
        "FP = Image.fromarray(~FP)\n",
        "plt.imshow(FP,cmap = 'gray')\n",
        "FP.save(file_path + \"5 Tested/FP.png\")\n",
        "\n",
        "FN = ~output & gt\n",
        "FN = Image.fromarray(~FN)\n",
        "plt.imshow(FN,cmap = 'gray')\n",
        "FN.save(file_path + \"5 Tested/FN.png\")"
      ],
      "metadata": {
        "id": "-6lDL9udzK00"
      },
      "execution_count": null,
      "outputs": []
    }
  ],
  "metadata": {
    "accelerator": "GPU",
    "colab": {
      "provenance": [],
      "include_colab_link": true
    },
    "kernelspec": {
      "display_name": "Python 3",
      "name": "python3"
    },
    "language_info": {
      "name": "python"
    }
  },
  "nbformat": 4,
  "nbformat_minor": 0
}