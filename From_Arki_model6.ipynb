{
  "nbformat": 4,
  "nbformat_minor": 0,
  "metadata": {
    "colab": {
      "provenance": [],
      "gpuType": "T4",
      "include_colab_link": true
    },
    "kernelspec": {
      "name": "python3",
      "display_name": "Python 3"
    },
    "language_info": {
      "name": "python"
    },
    "accelerator": "GPU"
  },
  "cells": [
    {
      "cell_type": "markdown",
      "metadata": {
        "id": "view-in-github",
        "colab_type": "text"
      },
      "source": [
        "<a href=\"https://colab.research.google.com/github/mgnarag/binarization-lowres/blob/main/From_Arki_model6.ipynb\" target=\"_parent\"><img src=\"https://colab.research.google.com/assets/colab-badge.svg\" alt=\"Open In Colab\"/></a>"
      ]
    },
    {
      "cell_type": "code",
      "execution_count": 1,
      "metadata": {
        "id": "gXM5CNP5BaYU",
        "colab": {
          "base_uri": "https://localhost:8080/"
        },
        "outputId": "25018f95-5989-48b0-be97-199e18a9d34f"
      },
      "outputs": [
        {
          "output_type": "stream",
          "name": "stdout",
          "text": [
            "Mounted at /content/drive\n"
          ]
        }
      ],
      "source": [
        "from google.colab import drive\n",
        "drive.mount(\"/content/drive\")"
      ]
    },
    {
      "cell_type": "code",
      "source": [
        "!ls drive/My\\ Drive\n",
        "file_path = \"/content/drive/My Drive/Architectural_designs/From Arki/\""
      ],
      "metadata": {
        "id": "xiAgOwvmBcjr"
      },
      "execution_count": null,
      "outputs": []
    },
    {
      "cell_type": "code",
      "source": [
        "\n",
        "import time\n",
        "import pandas as pd\n",
        "\n",
        "\n",
        "import matplotlib.pyplot as plt\n",
        "import numpy as np\n",
        "import tensorflow as tf\n",
        "\n",
        "\n",
        "from PIL import Image, ImageOps\n",
        "import os\n",
        "import numpy as np\n",
        "from sklearn import preprocessing\n",
        "\n",
        "epoch = 100\n",
        "model_number = 5\n",
        "size = 128\n",
        "\n",
        "def crop(im):\n",
        "    width, height = im.size\n",
        "    data = []\n",
        "\n",
        "    for j in np.arange(0,int(height/size)+1,0.250):\n",
        "        for i in np.arange(0,int(width/size)+1,0.250):\n",
        "            im1 = im.crop((0 + (size*i), 0 + (size*j), size + (size*i), size + (size*j)))\n",
        "            im1 = np.array(im1)\n",
        "            im1 = im1.astype(np.float32)\n",
        "            im1 = im1/255\n",
        "            data.append(im1)\n",
        "\n",
        "\n",
        "    return data\n",
        "\n",
        "def crop_(im):\n",
        "    width, height = im.size\n",
        "    data = []\n",
        "\n",
        "    for j in np.arange(0,int(height/size)+1,0.250):\n",
        "        for i in np.arange(0,int(width/size)+1,0.250):\n",
        "            im1 = im.crop((0 + (size*i), 0 + (size*j), size + (size*i), size + (size*j)))\n",
        "            im1 = np.array(im1)\n",
        "            im1 = im1.astype(np.float32)\n",
        "            im1 = im1/255\n",
        "            im1 = im1/4\n",
        "            data.append(im1)\n",
        "\n",
        "\n",
        "    return data\n",
        "\n",
        "\n",
        "\n",
        "train_input = np.array(crop_(ImageOps.grayscale(Image.open(file_path + \"Trial 2/Rizal_input_train.png\"))))\n",
        "print(\"Done reading the  training input of size = \", train_input.shape)\n",
        "\n",
        "train_output = np.array(crop(ImageOps.grayscale(Image.open(file_path + \"Trial 2/Rizal_output_train.png\"))))\n",
        "print(\"Done reading the  training out of size = \", train_output.shape)\n",
        "\n",
        "test_input = np.array(crop_(ImageOps.grayscale(Image.open(file_path + \"Trial 2/Rizal_input_test.png\"))))\n",
        "print(\"Done reading the  test input of size = \", test_input.shape)\n",
        "\n",
        "test_output = np.array(crop(ImageOps.grayscale(Image.open(file_path + \"Trial 2/Rizal_output_test.png\"))))\n",
        "print(\"Done reading the  test output of size = \", test_output.shape)"
      ],
      "metadata": {
        "id": "MjpPVdDyBeby",
        "colab": {
          "base_uri": "https://localhost:8080/"
        },
        "outputId": "dcebe508-afdf-4cad-9ec0-76ba0f1eb36b"
      },
      "execution_count": 3,
      "outputs": [
        {
          "output_type": "stream",
          "name": "stdout",
          "text": [
            "Done reading the  training input of size =  (10608, 128, 128)\n",
            "Done reading the  training out of size =  (10608, 128, 128)\n",
            "Done reading the  test input of size =  (5120, 128, 128)\n",
            "Done reading the  test output of size =  (5120, 128, 128)\n"
          ]
        }
      ]
    },
    {
      "cell_type": "code",
      "source": [
        "x = ImageOps.grayscale(Image.open(file_path + \"Rizal_output_train.png\"))\n",
        "print(x.getextrema())\n",
        "print(x.size)"
      ],
      "metadata": {
        "colab": {
          "base_uri": "https://localhost:8080/"
        },
        "id": "tdeHqCVxf6tP",
        "outputId": "717154b2-9295-4cf7-c387-ec3e4b7c580a"
      },
      "execution_count": 4,
      "outputs": [
        {
          "output_type": "stream",
          "name": "stdout",
          "text": [
            "(0, 255)\n",
            "(4975, 2142)\n"
          ]
        }
      ]
    },
    {
      "cell_type": "code",
      "source": [
        "\n",
        "n = 10\n",
        "plt.figure(figsize=(10, 4))\n",
        "for i in range(0,10):\n",
        "\n",
        "    ax = plt.subplot(2, n, i + 1)\n",
        "    plt.title(\"input\")\n",
        "    plt.imshow((train_input[i+10000]))\n",
        "    plt.gray()\n",
        "    ax.get_xaxis().set_visible(False)\n",
        "    ax.get_yaxis().set_visible(False)\n",
        "\n",
        "    bx = plt.subplot(2, n, i + n + 1)\n",
        "    plt.title(\"output\")\n",
        "    plt.imshow((train_output[i+10000]))\n",
        "    plt.gray()\n",
        "    bx.get_xaxis().set_visible(False)\n",
        "    bx.get_yaxis().set_visible(False)\n",
        "plt.show()\n",
        "\n"
      ],
      "metadata": {
        "id": "zUKPw12vBfw_",
        "colab": {
          "base_uri": "https://localhost:8080/",
          "height": 293
        },
        "outputId": "41e71d8c-927c-4cf7-c505-5d2e12ea6449"
      },
      "execution_count": 4,
      "outputs": [
        {
          "output_type": "display_data",
          "data": {
            "text/plain": [
              "<Figure size 1000x400 with 20 Axes>"
            ],
            "image/png": "[encoded data removed]"
          },
          "metadata": {}
        }
      ]
    },
    {
      "cell_type": "code",
      "source": [
        "train_input[4+10000]"
      ],
      "metadata": {
        "colab": {
          "base_uri": "https://localhost:8080/"
        },
        "id": "Z_v645AHbWY7",
        "outputId": "75a6c8aa-2a68-4e75-b70d-26dcb597c80e"
      },
      "execution_count": 10,
      "outputs": [
        {
          "output_type": "execute_result",
          "data": {
            "text/plain": [
              "array([[0.18627451, 0.18431373, 0.17941177, ..., 0.17058824, 0.17352942,\n",
              "        0.17450981],\n",
              "       [0.18627451, 0.18431373, 0.18039216, ..., 0.18137255, 0.18529412,\n",
              "        0.18431373],\n",
              "       [0.1882353 , 0.18627451, 0.18333334, ..., 0.18235295, 0.18431373,\n",
              "        0.18039216],\n",
              "       ...,\n",
              "       [0.19509804, 0.19509804, 0.19803922, ..., 0.20686275, 0.20490196,\n",
              "        0.20490196],\n",
              "       [0.19509804, 0.19803922, 0.2009804 , ..., 0.20392157, 0.2009804 ,\n",
              "        0.2009804 ],\n",
              "       [0.2009804 , 0.2009804 , 0.19803922, ..., 0.20392157, 0.20294118,\n",
              "        0.20392157]], dtype=float32)"
            ]
          },
          "metadata": {},
          "execution_count": 10
        }
      ]
    },
    {
      "cell_type": "code",
      "source": [
        "start = time.time()\n",
        "import tensorflow as tf\n",
        "\n",
        "from sklearn.metrics import accuracy_score, precision_score, recall_score\n",
        "from sklearn.model_selection import train_test_split\n",
        "from tensorflow.keras import layers, losses\n",
        "from tensorflow.keras.models import Model\n",
        "\n",
        "\n",
        "\n",
        "class autoenc(Model):\n",
        "  def __init__(self):\n",
        "    super(autoenc, self).__init__()\n",
        "    self.encoder = tf.keras.Sequential([\n",
        "      layers.Input(shape=(size, size, 1)),\n",
        "      layers.Conv2D(64, (3, 3), activation='relu', padding='same', strides=2)])\n",
        "\n",
        "    self.decoder = tf.keras.Sequential([\n",
        "      layers.Conv2DTranspose(64, kernel_size=3, strides=2, activation='relu', padding='same'),\n",
        "      layers.Conv2D(1, kernel_size=(3, 3), activation='sigmoid', padding='same')])\n",
        "\n",
        "  def call(self, x):\n",
        "    encoded = self.encoder(x)\n",
        "    decoded = self.decoder(encoded)\n",
        "    return decoded\n",
        "\n",
        "autoencoder = autoenc()\n",
        "\n",
        "\n",
        "autoencoder.compile(optimizer='adam', loss=losses.MeanSquaredError())\n",
        "\n",
        "model = autoencoder.fit(train_input, train_output,\n",
        "                epochs=epoch,\n",
        "                shuffle=True,\n",
        "                validation_data=(test_input, test_output))\n",
        "\n",
        "autoencoder.encoder.summary()\n",
        "\n",
        "\n",
        "autoencoder.save(file_path + '1 Models/' + 'autoencoder_' + str(model_number))\n",
        "\n",
        "loss = model.history['loss']\n",
        "loss = pd.DataFrame(loss)\n",
        "loss.to_csv(file_path + '2 Loss/'+'loss_'+ str(model_number) + '.csv')\n",
        "val_loss = model.history['val_loss']\n",
        "val_loss = pd.DataFrame(val_loss)\n",
        "val_loss.to_csv(file_path + '3 Validation loss/' +'val_loss_'+ str(model_number) + '.csv')\n",
        "\n",
        "# record end time\n",
        "end = time.time()\n",
        "\n",
        "print(\"The time of execution of above program is :\",\n",
        "      (end-start), \"seconds\")\n"
      ],
      "metadata": {
        "id": "yr5u2kBlBhYp",
        "colab": {
          "base_uri": "https://localhost:8080/"
        },
        "outputId": "9704a454-02da-4e36-805b-3d6efaccd02f"
      },
      "execution_count": 5,
      "outputs": [
        {
          "output_type": "stream",
          "name": "stdout",
          "text": [
            "Epoch 1/100\n",
            "332/332 [==============================] - 25s 45ms/step - loss: 0.0517 - val_loss: 0.0311\n",
            "Epoch 2/100\n",
            "332/332 [==============================] - 13s 39ms/step - loss: 0.0299 - val_loss: 0.0260\n",
            "Epoch 3/100\n",
            "332/332 [==============================] - 13s 39ms/step - loss: 0.0268 - val_loss: 0.0242\n",
            "Epoch 4/100\n",
            "332/332 [==============================] - 13s 40ms/step - loss: 0.0258 - val_loss: 0.0237\n",
            "Epoch 5/100\n",
            "332/332 [==============================] - 13s 40ms/step - loss: 0.0254 - val_loss: 0.0254\n",
            "Epoch 6/100\n",
            "332/332 [==============================] - 14s 41ms/step - loss: 0.0250 - val_loss: 0.0238\n",
            "Epoch 7/100\n",
            "332/332 [==============================] - 14s 42ms/step - loss: 0.0247 - val_loss: 0.0233\n",
            "Epoch 8/100\n",
            "332/332 [==============================] - 14s 41ms/step - loss: 0.0245 - val_loss: 0.0234\n",
            "Epoch 9/100\n",
            "332/332 [==============================] - 14s 42ms/step - loss: 0.0243 - val_loss: 0.0230\n",
            "Epoch 10/100\n",
            "332/332 [==============================] - 13s 41ms/step - loss: 0.0242 - val_loss: 0.0231\n",
            "Epoch 11/100\n",
            "332/332 [==============================] - 14s 41ms/step - loss: 0.0240 - val_loss: 0.0237\n",
            "Epoch 12/100\n",
            "332/332 [==============================] - 14s 41ms/step - loss: 0.0239 - val_loss: 0.0230\n",
            "Epoch 13/100\n",
            "332/332 [==============================] - 14s 41ms/step - loss: 0.0238 - val_loss: 0.0230\n",
            "Epoch 14/100\n",
            "332/332 [==============================] - 14s 41ms/step - loss: 0.0236 - val_loss: 0.0223\n",
            "Epoch 15/100\n",
            "332/332 [==============================] - 14s 41ms/step - loss: 0.0235 - val_loss: 0.0223\n",
            "Epoch 16/100\n",
            "332/332 [==============================] - 14s 41ms/step - loss: 0.0234 - val_loss: 0.0230\n",
            "Epoch 17/100\n",
            "332/332 [==============================] - 14s 41ms/step - loss: 0.0234 - val_loss: 0.0218\n",
            "Epoch 18/100\n",
            "332/332 [==============================] - 14s 41ms/step - loss: 0.0233 - val_loss: 0.0222\n",
            "Epoch 19/100\n",
            "332/332 [==============================] - 14s 41ms/step - loss: 0.0232 - val_loss: 0.0226\n",
            "Epoch 20/100\n",
            "332/332 [==============================] - 14s 41ms/step - loss: 0.0231 - val_loss: 0.0228\n",
            "Epoch 21/100\n",
            "332/332 [==============================] - 14s 41ms/step - loss: 0.0230 - val_loss: 0.0227\n",
            "Epoch 22/100\n",
            "332/332 [==============================] - 14s 41ms/step - loss: 0.0229 - val_loss: 0.0217\n",
            "Epoch 23/100\n",
            "332/332 [==============================] - 14s 41ms/step - loss: 0.0229 - val_loss: 0.0227\n",
            "Epoch 24/100\n",
            "332/332 [==============================] - 14s 41ms/step - loss: 0.0228 - val_loss: 0.0215\n",
            "Epoch 25/100\n",
            "332/332 [==============================] - 14s 41ms/step - loss: 0.0228 - val_loss: 0.0213\n",
            "Epoch 26/100\n",
            "332/332 [==============================] - 14s 41ms/step - loss: 0.0227 - val_loss: 0.0220\n",
            "Epoch 27/100\n",
            "332/332 [==============================] - 14s 41ms/step - loss: 0.0226 - val_loss: 0.0227\n",
            "Epoch 28/100\n",
            "332/332 [==============================] - 14s 41ms/step - loss: 0.0225 - val_loss: 0.0211\n",
            "Epoch 29/100\n",
            "332/332 [==============================] - 14s 41ms/step - loss: 0.0225 - val_loss: 0.0212\n",
            "Epoch 30/100\n",
            "332/332 [==============================] - 14s 42ms/step - loss: 0.0224 - val_loss: 0.0211\n",
            "Epoch 31/100\n",
            "332/332 [==============================] - 14s 41ms/step - loss: 0.0223 - val_loss: 0.0213\n",
            "Epoch 32/100\n",
            "332/332 [==============================] - 14s 41ms/step - loss: 0.0223 - val_loss: 0.0211\n",
            "Epoch 33/100\n",
            "332/332 [==============================] - 14s 41ms/step - loss: 0.0222 - val_loss: 0.0209\n",
            "Epoch 34/100\n",
            "332/332 [==============================] - 14s 41ms/step - loss: 0.0222 - val_loss: 0.0216\n",
            "Epoch 35/100\n",
            "332/332 [==============================] - 14s 41ms/step - loss: 0.0221 - val_loss: 0.0214\n",
            "Epoch 36/100\n",
            "332/332 [==============================] - 14s 41ms/step - loss: 0.0221 - val_loss: 0.0211\n",
            "Epoch 37/100\n",
            "332/332 [==============================] - 13s 41ms/step - loss: 0.0220 - val_loss: 0.0209\n",
            "Epoch 38/100\n",
            "332/332 [==============================] - 14s 41ms/step - loss: 0.0220 - val_loss: 0.0211\n",
            "Epoch 39/100\n",
            "332/332 [==============================] - 14s 41ms/step - loss: 0.0220 - val_loss: 0.0215\n",
            "Epoch 40/100\n",
            "332/332 [==============================] - 14s 41ms/step - loss: 0.0219 - val_loss: 0.0211\n",
            "Epoch 41/100\n",
            "332/332 [==============================] - 14s 41ms/step - loss: 0.0219 - val_loss: 0.0216\n",
            "Epoch 42/100\n",
            "332/332 [==============================] - 14s 41ms/step - loss: 0.0219 - val_loss: 0.0210\n",
            "Epoch 43/100\n",
            "332/332 [==============================] - 14s 41ms/step - loss: 0.0218 - val_loss: 0.0210\n",
            "Epoch 44/100\n",
            "332/332 [==============================] - 13s 41ms/step - loss: 0.0218 - val_loss: 0.0209\n",
            "Epoch 45/100\n",
            "332/332 [==============================] - 13s 40ms/step - loss: 0.0218 - val_loss: 0.0211\n",
            "Epoch 46/100\n",
            "332/332 [==============================] - 14s 41ms/step - loss: 0.0218 - val_loss: 0.0213\n",
            "Epoch 47/100\n",
            "332/332 [==============================] - 14s 41ms/step - loss: 0.0217 - val_loss: 0.0207\n",
            "Epoch 48/100\n",
            "332/332 [==============================] - 13s 41ms/step - loss: 0.0217 - val_loss: 0.0208\n",
            "Epoch 49/100\n",
            "332/332 [==============================] - 13s 41ms/step - loss: 0.0216 - val_loss: 0.0209\n",
            "Epoch 50/100\n",
            "332/332 [==============================] - 13s 40ms/step - loss: 0.0217 - val_loss: 0.0211\n",
            "Epoch 51/100\n",
            "332/332 [==============================] - 14s 41ms/step - loss: 0.0216 - val_loss: 0.0208\n",
            "Epoch 52/100\n",
            "332/332 [==============================] - 14s 41ms/step - loss: 0.0216 - val_loss: 0.0212\n",
            "Epoch 53/100\n",
            "332/332 [==============================] - 14s 41ms/step - loss: 0.0216 - val_loss: 0.0210\n",
            "Epoch 54/100\n",
            "332/332 [==============================] - 14s 41ms/step - loss: 0.0215 - val_loss: 0.0209\n",
            "Epoch 55/100\n",
            "332/332 [==============================] - 14s 41ms/step - loss: 0.0215 - val_loss: 0.0208\n",
            "Epoch 56/100\n",
            "332/332 [==============================] - 14s 41ms/step - loss: 0.0216 - val_loss: 0.0216\n",
            "Epoch 57/100\n",
            "332/332 [==============================] - 14s 41ms/step - loss: 0.0215 - val_loss: 0.0206\n",
            "Epoch 58/100\n",
            "332/332 [==============================] - 14s 41ms/step - loss: 0.0215 - val_loss: 0.0207\n",
            "Epoch 59/100\n",
            "332/332 [==============================] - 14s 41ms/step - loss: 0.0215 - val_loss: 0.0207\n",
            "Epoch 60/100\n",
            "332/332 [==============================] - 14s 41ms/step - loss: 0.0215 - val_loss: 0.0206\n",
            "Epoch 61/100\n",
            "332/332 [==============================] - 14s 41ms/step - loss: 0.0215 - val_loss: 0.0212\n",
            "Epoch 62/100\n",
            "332/332 [==============================] - 14s 41ms/step - loss: 0.0214 - val_loss: 0.0213\n",
            "Epoch 63/100\n",
            "332/332 [==============================] - 14s 41ms/step - loss: 0.0214 - val_loss: 0.0210\n",
            "Epoch 64/100\n",
            "332/332 [==============================] - 14s 42ms/step - loss: 0.0214 - val_loss: 0.0206\n",
            "Epoch 65/100\n",
            "332/332 [==============================] - 14s 41ms/step - loss: 0.0214 - val_loss: 0.0206\n",
            "Epoch 66/100\n",
            "332/332 [==============================] - 14s 41ms/step - loss: 0.0214 - val_loss: 0.0208\n",
            "Epoch 67/100\n",
            "332/332 [==============================] - 14s 41ms/step - loss: 0.0214 - val_loss: 0.0209\n",
            "Epoch 68/100\n",
            "332/332 [==============================] - 14s 41ms/step - loss: 0.0214 - val_loss: 0.0208\n",
            "Epoch 69/100\n",
            "332/332 [==============================] - 14s 41ms/step - loss: 0.0213 - val_loss: 0.0207\n",
            "Epoch 70/100\n",
            "332/332 [==============================] - 14s 41ms/step - loss: 0.0214 - val_loss: 0.0207\n",
            "Epoch 71/100\n",
            "332/332 [==============================] - 14s 41ms/step - loss: 0.0213 - val_loss: 0.0208\n",
            "Epoch 72/100\n",
            "332/332 [==============================] - 14s 41ms/step - loss: 0.0213 - val_loss: 0.0205\n",
            "Epoch 73/100\n",
            "332/332 [==============================] - 14s 41ms/step - loss: 0.0213 - val_loss: 0.0207\n",
            "Epoch 74/100\n",
            "332/332 [==============================] - 14s 41ms/step - loss: 0.0212 - val_loss: 0.0212\n",
            "Epoch 75/100\n",
            "332/332 [==============================] - 14s 41ms/step - loss: 0.0213 - val_loss: 0.0210\n",
            "Epoch 76/100\n",
            "332/332 [==============================] - 14s 41ms/step - loss: 0.0212 - val_loss: 0.0206\n",
            "Epoch 77/100\n",
            "332/332 [==============================] - 14s 41ms/step - loss: 0.0213 - val_loss: 0.0205\n",
            "Epoch 78/100\n",
            "332/332 [==============================] - 14s 41ms/step - loss: 0.0212 - val_loss: 0.0210\n",
            "Epoch 79/100\n",
            "332/332 [==============================] - 14s 41ms/step - loss: 0.0212 - val_loss: 0.0207\n",
            "Epoch 80/100\n",
            "332/332 [==============================] - 13s 41ms/step - loss: 0.0212 - val_loss: 0.0206\n",
            "Epoch 81/100\n",
            "332/332 [==============================] - 14s 41ms/step - loss: 0.0212 - val_loss: 0.0207\n",
            "Epoch 82/100\n",
            "332/332 [==============================] - 14s 41ms/step - loss: 0.0212 - val_loss: 0.0210\n",
            "Epoch 83/100\n",
            "332/332 [==============================] - 14s 41ms/step - loss: 0.0212 - val_loss: 0.0208\n",
            "Epoch 84/100\n",
            "332/332 [==============================] - 14s 41ms/step - loss: 0.0212 - val_loss: 0.0209\n",
            "Epoch 85/100\n",
            "332/332 [==============================] - 14s 41ms/step - loss: 0.0212 - val_loss: 0.0209\n",
            "Epoch 86/100\n",
            "332/332 [==============================] - 14s 41ms/step - loss: 0.0211 - val_loss: 0.0213\n",
            "Epoch 87/100\n",
            "332/332 [==============================] - 14s 41ms/step - loss: 0.0211 - val_loss: 0.0206\n",
            "Epoch 88/100\n",
            "332/332 [==============================] - 14s 41ms/step - loss: 0.0211 - val_loss: 0.0213\n",
            "Epoch 89/100\n",
            "332/332 [==============================] - 14s 41ms/step - loss: 0.0211 - val_loss: 0.0204\n",
            "Epoch 90/100\n",
            "332/332 [==============================] - 14s 41ms/step - loss: 0.0211 - val_loss: 0.0206\n",
            "Epoch 91/100\n",
            "332/332 [==============================] - 14s 41ms/step - loss: 0.0211 - val_loss: 0.0209\n",
            "Epoch 92/100\n",
            "332/332 [==============================] - 14s 41ms/step - loss: 0.0211 - val_loss: 0.0208\n",
            "Epoch 93/100\n",
            "332/332 [==============================] - 14s 41ms/step - loss: 0.0211 - val_loss: 0.0209\n",
            "Epoch 94/100\n",
            "332/332 [==============================] - 14s 41ms/step - loss: 0.0211 - val_loss: 0.0207\n",
            "Epoch 95/100\n",
            "332/332 [==============================] - 14s 41ms/step - loss: 0.0210 - val_loss: 0.0205\n",
            "Epoch 96/100\n",
            "332/332 [==============================] - 14s 41ms/step - loss: 0.0211 - val_loss: 0.0205\n",
            "Epoch 97/100\n",
            "332/332 [==============================] - 14s 41ms/step - loss: 0.0210 - val_loss: 0.0207\n",
            "Epoch 98/100\n",
            "332/332 [==============================] - 13s 41ms/step - loss: 0.0210 - val_loss: 0.0206\n",
            "Epoch 99/100\n",
            "332/332 [==============================] - 13s 41ms/step - loss: 0.0211 - val_loss: 0.0210\n",
            "Epoch 100/100\n",
            "332/332 [==============================] - 13s 41ms/step - loss: 0.0210 - val_loss: 0.0211\n",
            "Model: \"sequential\"\n",
            "_________________________________________________________________\n",
            " Layer (type)                Output Shape              Param #   \n",
            "=================================================================\n",
            " conv2d (Conv2D)             (None, 64, 64, 64)        640       \n",
            "                                                                 \n",
            "=================================================================\n",
            "Total params: 640 (2.50 KB)\n",
            "Trainable params: 640 (2.50 KB)\n",
            "Non-trainable params: 0 (0.00 Byte)\n",
            "_________________________________________________________________\n",
            "The time of execution of above program is : 1377.9541862010956 seconds\n"
          ]
        }
      ]
    }
  ]
}