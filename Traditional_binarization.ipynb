{
  "nbformat": 4,
  "nbformat_minor": 0,
  "metadata": {
    "colab": {
      "provenance": [],
      "authorship_tag": "ABX9TyM0w6bF4xC7h6Vx4vl9gefU",
      "include_colab_link": true
    },
    "kernelspec": {
      "name": "python3",
      "display_name": "Python 3"
    },
    "language_info": {
      "name": "python"
    }
  },
  "cells": [
    {
      "cell_type": "markdown",
      "metadata": {
        "id": "view-in-github",
        "colab_type": "text"
      },
      "source": [
        "<a href=\"https://colab.research.google.com/github/mgnarag/binarization-lowres/blob/main/Traditional_binarization.ipynb\" target=\"_parent\"><img src=\"https://colab.research.google.com/assets/colab-badge.svg\" alt=\"Open In Colab\"/></a>"
      ]
    },
    {
      "cell_type": "code",
      "execution_count": null,
      "metadata": {
        "id": "Ny-cLuc-2ZpT"
      },
      "outputs": [],
      "source": [
        "from google.colab import drive\n",
        "drive.mount(\"/content/drive\")\n",
        "\n",
        "!ls drive/My\\ Drive\n",
        "file_path = \"/content/drive/My Drive/Architectural_designs/From Arki/6 Traditional Binarization/\""
      ]
    },
    {
      "cell_type": "code",
      "source": [
        "import matplotlib.pyplot as plt\n",
        "import numpy as np\n",
        "import pandas as pd\n",
        "\n",
        "\n",
        "from PIL import Image, ImageOps\n",
        "Image.MAX_IMAGE_PIXELS = None\n",
        "import os\n",
        "import matplotlib.pyplot as plt\n",
        "\n",
        "import cv2"
      ],
      "metadata": {
        "id": "7t5VtlOB_YW4"
      },
      "execution_count": 2,
      "outputs": []
    },
    {
      "cell_type": "code",
      "source": [
        "def metrics(gt,thresh1):\n",
        "  out_bin = np.where(thresh1 == 255, 1, thresh1)\n",
        "  gt_bin = np.where(gt == 255, 1, gt)\n",
        "  gt_bin = gt_bin^1\n",
        "  out_bin = out_bin^1\n",
        "\n",
        "  tp = np.sum(out_bin & gt_bin)\n",
        "  fp = np.sum(out_bin & ~gt_bin)\n",
        "  fn = np.sum(~out_bin & gt_bin)\n",
        "  precision = tp / (tp + fp)\n",
        "  recall = tp / (tp + fn)\n",
        "  f1_score = (2*precision*recall)/(precision + recall)\n",
        "\n",
        "  intersection = np.sum(np.logical_and(gt_bin, out_bin))\n",
        "  union = np.sum(np.logical_or(gt_bin, out_bin))\n",
        "  iou = intersection / union\n",
        "\n",
        "  psnr = cv2.PSNR(gt, thresh1)\n",
        "\n",
        "  return f1_score, iou, psnr\n",
        "\n",
        "\n",
        "def simple_thresh(gt,test):\n",
        "  F1 = []\n",
        "  IOU = []\n",
        "  PSNR = []\n",
        "  for i in range(0,255):\n",
        "    ret,thresh1 = cv2.threshold(test,i,255,cv2.THRESH_BINARY)\n",
        "    M = metrics(gt,thresh1)\n",
        "    F1.append(M[0])\n",
        "    IOU.append(M[1])\n",
        "    PSNR.append(M[2])\n",
        "  index = np.nanargmax(F1)\n",
        "\n",
        "  #saving:\n",
        "  ret,thresh1 = cv2.threshold(test,index,255,cv2.THRESH_BINARY)\n",
        "  final = Image.fromarray(thresh1)\n",
        "  final.save(file_path + \"[1] SIMPLE_pix_\" + str(index)+\".png\")\n",
        "\n",
        "  return F1[index], IOU[index], PSNR[index], index\n",
        "\n",
        "def otsu_thresh(gt,test):\n",
        "  ret,thresh1 = cv2.threshold(test,0,255,cv2.THRESH_BINARY+cv2.THRESH_OTSU)\n",
        "  M = metrics(gt,thresh1)\n",
        "  final = Image.fromarray(thresh1)\n",
        "  final.save(file_path + \"[2] OTSU.png\")\n",
        "  return M[0], M[1], M[2]"
      ],
      "metadata": {
        "id": "ODN7x2jhCyMc"
      },
      "execution_count": 5,
      "outputs": []
    },
    {
      "cell_type": "code",
      "source": [
        "def adaptive_thresh_gaussian(gt,test):\n",
        "  F1 = []\n",
        "  IOU = []\n",
        "  PSNR = []\n",
        "  kernel = [i for i in range(3, 128, 4)]\n",
        "  for k in kernel:\n",
        "    F1_per_kernel = []\n",
        "    IOU_per_kernel = []\n",
        "    PSNR_per_kernel = []\n",
        "    print(k)\n",
        "    for i in range(0,100):\n",
        "      #print(i)\n",
        "      thresh1 = cv2.adaptiveThreshold(test,255,cv2.ADAPTIVE_THRESH_GAUSSIAN_C,cv2.THRESH_BINARY,k,i)\n",
        "      M = metrics(gt,thresh1)\n",
        "      F1_per_kernel.append(M[0])\n",
        "      IOU_per_kernel.append(M[1])\n",
        "      PSNR_per_kernel.append(M[2])\n",
        "\n",
        "    F1.append(F1_per_kernel)\n",
        "    IOU.append(IOU_per_kernel)\n",
        "    PSNR.append(PSNR_per_kernel)\n",
        "\n",
        "  F1 = np.array(F1)\n",
        "  flat_index = np.nanargmax(F1)\n",
        "  index = np.unravel_index(flat_index, F1.shape)\n",
        "\n",
        "  #saving:\n",
        "  thresh1 = cv2.adaptiveThreshold(test,255,cv2.ADAPTIVE_THRESH_GAUSSIAN_C,cv2.THRESH_BINARY,kernel[index[0]], index[1])\n",
        "  final = Image.fromarray(thresh1)\n",
        "  final.save(file_path + \"[3] ADAPTIVE_GAUSSIAN_kernel_\"+str(kernel[index[0]])+ \"pix_\"+str(index[1])+\".png\")\n",
        "\n",
        "  return F1[index[0]][index[1]], IOU[index[0]][index[1]], PSNR[index[0]][index[1]], kernel[index[0]], index[1]\n",
        "\n",
        "def adaptive_thresh_mean(gt,test):\n",
        "  F1 = []\n",
        "  IOU = []\n",
        "  PSNR = []\n",
        "  kernel = [i for i in range(3, 128, 4)]\n",
        "  for k in kernel:\n",
        "    F1_per_kernel = []\n",
        "    IOU_per_kernel = []\n",
        "    PSNR_per_kernel = []\n",
        "    print(k)\n",
        "    for i in range(0,100):\n",
        "      thresh1 = cv2.adaptiveThreshold(test,255,cv2.ADAPTIVE_THRESH_MEAN_C,cv2.THRESH_BINARY,k,i)\n",
        "      #print(i)\n",
        "      M = metrics(gt,thresh1)\n",
        "      F1_per_kernel.append(M[0])\n",
        "      IOU_per_kernel.append(M[1])\n",
        "      PSNR_per_kernel.append(M[2])\n",
        "\n",
        "    F1.append(F1_per_kernel)\n",
        "    IOU.append(IOU_per_kernel)\n",
        "    PSNR.append(PSNR_per_kernel)\n",
        "\n",
        "  F1 = np.array(F1)\n",
        "  flat_index = np.nanargmax(F1)\n",
        "  index = np.unravel_index(flat_index, F1.shape)\n",
        "\n",
        "  #saving:\n",
        "  thresh1 = cv2.adaptiveThreshold(test,255,cv2.ADAPTIVE_THRESH_MEAN_C,cv2.THRESH_BINARY,kernel[index[0]], index[1])\n",
        "  final = Image.fromarray(thresh1)\n",
        "  final.save(file_path + \"[4] ADAPTIVE_MEAN_kernel_\"+str(kernel[index[0]])+ \"pix_\"+str(index[1])+\".png\")\n",
        "\n",
        "  return F1[index[0]][index[1]], IOU[index[0]][index[1]], PSNR[index[0]][index[1]], kernel[index[0]], index[1]"
      ],
      "metadata": {
        "id": "SXdhHw6Kwj0b"
      },
      "execution_count": 22,
      "outputs": []
    },
    {
      "cell_type": "markdown",
      "source": [],
      "metadata": {
        "id": "pfqB2hvKF24B"
      }
    },
    {
      "cell_type": "code",
      "source": [
        "gt = cv2.imread(file_path+ 'ground_truth_100dpi.png', cv2.IMREAD_GRAYSCALE)\n",
        "test = cv2.imread(file_path+ 'nbs_100dpi.png', cv2.IMREAD_GRAYSCALE)\n",
        "#for simple thresh:\n",
        "simple = simple_thresh(gt,test)\n",
        "print('simple thresh = ', simple)\n",
        "otsu = otsu_thresh(gt,test)\n",
        "print('simple thresh = ', otsu)"
      ],
      "metadata": {
        "colab": {
          "base_uri": "https://localhost:8080/"
        },
        "id": "jQAUy0W3xKrv",
        "outputId": "1c50c1db-6743-4242-febb-84927dd4eeb5"
      },
      "execution_count": 7,
      "outputs": [
        {
          "output_type": "stream",
          "name": "stderr",
          "text": [
            "<ipython-input-5-c61bf400e20e>:10: RuntimeWarning: invalid value encountered in ulong_scalars\n",
            "  precision = tp / (tp + fp)\n"
          ]
        },
        {
          "output_type": "stream",
          "name": "stdout",
          "text": [
            "simple thresh =  (0.7625004190352133, 0.6161621634172582, 15.146347532884514, 109)\n",
            "simple thresh =  (0.748887803731719, 0.5985776543186475, 14.448542747658957)\n"
          ]
        }
      ]
    },
    {
      "cell_type": "code",
      "source": [
        "#for adaptive thresh:\n",
        "gaussian = adaptive_thresh_gaussian(gt,test)\n",
        "print('adaptive thresh = ', gaussian)\n",
        "mean = adaptive_thresh_mean(gt,test)\n",
        "print('adaptive thresh = ', mean)"
      ],
      "metadata": {
        "colab": {
          "base_uri": "https://localhost:8080/"
        },
        "id": "E9xqrMqb8J2f",
        "outputId": "6b4d0e0c-7f0d-4d0e-c2cb-8ac5a868b15f"
      },
      "execution_count": 23,
      "outputs": [
        {
          "output_type": "stream",
          "name": "stdout",
          "text": [
            "3\n"
          ]
        },
        {
          "output_type": "stream",
          "name": "stderr",
          "text": [
            "<ipython-input-5-c61bf400e20e>:10: RuntimeWarning: invalid value encountered in ulong_scalars\n",
            "  precision = tp / (tp + fp)\n"
          ]
        },
        {
          "output_type": "stream",
          "name": "stdout",
          "text": [
            "7\n",
            "11\n",
            "15\n",
            "19\n",
            "23\n",
            "27\n",
            "31\n",
            "35\n",
            "39\n",
            "43\n",
            "47\n",
            "51\n",
            "55\n",
            "59\n",
            "63\n",
            "67\n",
            "71\n",
            "75\n",
            "79\n",
            "83\n",
            "87\n",
            "91\n",
            "95\n",
            "99\n",
            "103\n",
            "107\n",
            "111\n",
            "115\n",
            "119\n",
            "123\n",
            "127\n",
            "adaptive thresh =  (0.7978157116435667, 0.6636384449295213, 15.805767259753278, 47, 12)\n",
            "3\n",
            "7\n",
            "11\n",
            "15\n",
            "19\n",
            "23\n",
            "27\n",
            "31\n",
            "35\n",
            "39\n",
            "43\n",
            "47\n",
            "51\n",
            "55\n",
            "59\n",
            "63\n",
            "67\n",
            "71\n",
            "75\n",
            "79\n",
            "83\n",
            "87\n",
            "91\n",
            "95\n",
            "99\n",
            "103\n",
            "107\n",
            "111\n",
            "115\n",
            "119\n",
            "123\n",
            "127\n",
            "adaptive thresh =  (0.7936432620938949, 0.6578843862317507, 15.651957485968083, 23, 12)\n"
          ]
        }
      ]
    },
    {
      "cell_type": "code",
      "source": [
        "\n",
        "\n",
        "METRIC = pd.DataFrame(METRIC)\n",
        "\n",
        "headers = ['Model','Precision', 'Recall', 'F1 Score', 'IOU','PSNR' ]\n",
        "METRIC.columns = headers\n",
        "\n",
        "METRIC.to_csv(file_path + 'Metric_100DPI_white balanced and bw output.csv')\n",
        ""
      ],
      "metadata": {
        "id": "Z-CoZGAQGNOZ"
      },
      "execution_count": null,
      "outputs": []
    },
    {
      "cell_type": "code",
      "source": [
        "simple_ = np.array(simple)\n",
        "otsu_ = np.array(otsu)\n",
        "gaussian_ = np.array(gaussian)\n",
        "mean_ = np.array(mean)\n",
        "\n",
        "\n",
        "# Creating DataFrames from arrays\n",
        "df1 = pd.DataFrame({'Simple': simple_})\n",
        "df2 = pd.DataFrame({'Otsu': otsu_})\n",
        "df3 = pd.DataFrame({'Gaussian': gaussian_})\n",
        "df4 = pd.DataFrame({'Mean': mean_})\n",
        "\n",
        "# Concatenating DataFrames along columns (axis=1)\n",
        "metric = pd.concat([df1, df2, df3, df4], axis=1)\n",
        "metric = metric.T\n",
        "\n",
        "headers = ['F1 score','IOU', 'PSNR', 'pixel/kerner', 'c parameter' ]\n",
        "metric.columns = headers\n",
        "\n",
        "metric.to_csv(file_path + 'Metric_traditional.csv')\n",
        "\n",
        "\n",
        "print(metric)\n",
        "\n"
      ],
      "metadata": {
        "id": "8LAe5F2bA6Cp",
        "outputId": "42646a40-0ed8-44d0-b68d-bf156c057314",
        "colab": {
          "base_uri": "https://localhost:8080/"
        }
      },
      "execution_count": 31,
      "outputs": [
        {
          "output_type": "stream",
          "name": "stdout",
          "text": [
            "          F1 score       IOU       PSNR  pixel/kerner  c parameter\n",
            "Simple    0.762500  0.616162  15.146348         109.0          NaN\n",
            "Otsu      0.748888  0.598578  14.448543           NaN          NaN\n",
            "Gaussian  0.797816  0.663638  15.805767          47.0         12.0\n",
            "Mean      0.793643  0.657884  15.651957          23.0         12.0\n"
          ]
        }
      ]
    },
    {
      "cell_type": "code",
      "source": [],
      "metadata": {
        "id": "Q50HSrOlA9Rb"
      },
      "execution_count": null,
      "outputs": []
    }
  ]
}